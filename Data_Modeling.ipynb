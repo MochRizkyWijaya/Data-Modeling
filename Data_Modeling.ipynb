{
  "nbformat": 4,
  "nbformat_minor": 0,
  "metadata": {
    "kernelspec": {
      "display_name": "Python 3",
      "language": "python",
      "name": "python3"
    },
    "language_info": {
      "codemirror_mode": {
        "name": "ipython",
        "version": 3
      },
      "file_extension": ".py",
      "mimetype": "text/x-python",
      "name": "python",
      "nbconvert_exporter": "python",
      "pygments_lexer": "ipython3",
      "version": "3.7.3"
    },
    "colab": {
      "name": "Data Modeling.ipynb",
      "version": "0.3.2",
      "provenance": [],
      "collapsed_sections": []
    }
  },
  "cells": [
    {
      "cell_type": "markdown",
      "metadata": {
        "id": "L3B7BZCOBZhP",
        "colab_type": "text"
      },
      "source": [
        "<h1 style=\"text-align: center;\">Project</h1>\n",
        "<table>\n",
        "<tbody>\n",
        "<tr>\n",
        "<td style=\"text-align: left;\">Penulis</td>\n",
        "<td style=\"text-align: left;\">:</td>\n",
        "<td style=\"text-align: left;\">Moch Rizky Wijaya</td>\n",
        "</tr>\n",
        "\n",
        "</tbody>\n",
        "</table>\n",
        "<p>&nbsp;</p>\n",
        "<table>\n",
        "<tbody>\n",
        "<tr>\n",
        "<td style=\"text-align: left;\">Judul Project</td>\n",
        "<td style=\"text-align: left;\">:</td>\n",
        "<td style=\"text-align: left;\">Data Modelling</td>\n",
        "</tr>\n",
        "<tr>\n",
        "<td style=\"text-align: left;\">Deskripsi</td>\n",
        "<td style=\"text-align: left;\">:</td>\n",
        "<td style=\"text-align: left;\">Project dilakukan dengan collecting data kemudian dimasukkan ke database  RDS. Data yang ada pada database RDS kemudian dimasukkan ke jupyter notebook lagi </td>\n",
        "</tr>\n",
        "<tr>\n",
        "<td style=\"text-align: left;\">Data yang Diambil</td>\n",
        "<td style=\"text-align: left;\">:</td>\n",
        "<td style=\"text-align: left;\">Input data dari twitter dengan #matilampulagi #Jakarta</td>\n",
        "</tr>\n",
        "</tbody>\n",
        "</table>\n",
        "<p>&nbsp;</p>"
      ]
    },
    {
      "cell_type": "code",
      "metadata": {
        "id": "oWgVEEvCBZhS",
        "colab_type": "code",
        "colab": {}
      },
      "source": [
        "#tuliskan proses pengambilan data dari twitter atau pembacaan data dari CSV yang sudah disimpan sebelumnya\n",
        "\n",
        "!pip install tweepy==3.8.0\n",
        "\n",
        "import tweepy\n",
        "import csv\n",
        "\n",
        "from tweepy import OAuthHandler"
      ],
      "execution_count": 0,
      "outputs": []
    },
    {
      "cell_type": "code",
      "metadata": {
        "id": "krJGI81FR_N5",
        "colab_type": "code",
        "colab": {}
      },
      "source": [
        "consumer_key=''\n",
        "consumer_secret=''\n",
        "\n",
        "access_token=''\n",
        "access_secret=''\n",
        "\n",
        "auth = tweepy.OAuthHandler(consumer_key,consumer_secret)\n",
        "auth.set_access_token(access_token,access_secret)\n",
        "\n",
        "api = tweepy.API(auth)"
      ],
      "execution_count": 0,
      "outputs": []
    },
    {
      "cell_type": "code",
      "metadata": {
        "id": "S1GHPaK8Suk6",
        "colab_type": "code",
        "colab": {}
      },
      "source": [
        "def hitung_jumlah_hashtag(hashtag,n_tweet,date):\n",
        "  count = 0\n",
        "  for tweet in tweepy.Cursor(api.search,q=hashtag,date_since=date).items(n_tweet):\n",
        "    tweet_string = tweet.text\n",
        "    count =count + tweet_string.count(hashtag)\n",
        "  return count"
      ],
      "execution_count": 0,
      "outputs": []
    },
    {
      "cell_type": "code",
      "metadata": {
        "id": "envKLPlBSw7v",
        "colab_type": "code",
        "colab": {}
      },
      "source": [
        "jumlah_tweet_yang_diambil = 100\n",
        "tanggal_mulai = \"2019-08-05\"\n",
        "list_hashtag = [\"#matilampulagi\", \"#Jakarta\"]\n",
        "\n",
        "hashtag_counts = {}\n",
        "for hashtag in list_hashtag:\n",
        "  hashtag_counts[hashtag] = hitung_jumlah_hashtag(hashtag,jumlah_tweet_yang_diambil,tanggal_mulai)\n",
        "\n",
        "for k,v in hashtag_counts.items():\n",
        "  print(k+':'+str(v))"
      ],
      "execution_count": 0,
      "outputs": []
    },
    {
      "cell_type": "code",
      "metadata": {
        "id": "grHJhl7jBZha",
        "colab_type": "code",
        "colab": {}
      },
      "source": [
        "#isi cell ini dengan connection ke database, pembuatan tabel, pengisian data ke tabel, pengambilan data dari database\n",
        "\n",
        "!pip install pymysql\n",
        "import pandas as pd\n",
        "import pymysql\n",
        "\n",
        "host=\"database-bigdata.c0hxnu4ehay6.us-east-1.rds.amazonaws.com\"\n",
        "port=3306\n",
        "dbname=\"dbbigdata\"\n",
        "user=\"admin\"\n",
        "password=\"adminpassword\"\n",
        "\n",
        "conn = pymysql.connect(host, user=user, port=port, passwd =password, db=dbname)"
      ],
      "execution_count": 0,
      "outputs": []
    },
    {
      "cell_type": "code",
      "metadata": {
        "id": "oFfPOdATS5Ie",
        "colab_type": "code",
        "colab": {}
      },
      "source": [
        "create_tables_m_hashtag=\"\"\"CREATE TABLE IF NOT EXISTS m_hashtag (\n",
        "  id_hashtag INT AUTO_INCREMENT, \n",
        "  hashtag VARCHAR(100) NULL,\n",
        "  PRIMARY KEY (id_hashtag));\n",
        "\"\"\"\n",
        "try:\n",
        "  with conn.cursor() as cursor:\n",
        "    cursor.execute(create_tables_m_hashtag)\n",
        "except Exception as e:\n",
        "  print(e)\n",
        "  \n",
        "create_table_hashtag_count=\"\"\"CREATE TABLE IF NOT EXISTS hashtag_count (id_hashtag_count INT AUTO_INCREMENT, \n",
        "  count VARCHAR(45) NULL,\n",
        "  id_hashtag INT NOT NULL,\n",
        "  PRIMARY KEY (id_hashtag_count),\n",
        "  FOREIGN KEY (id_hashtag)\n",
        "  REFERENCES m_hashtag (id_hashtag)\n",
        "  );\n",
        "\"\"\"\n",
        "try:\n",
        "  with conn.cursor() as cursor:\n",
        "    cursor.execute(create_table_hashtag_count)\n",
        "except Exception as e:\n",
        "  print(e)"
      ],
      "execution_count": 0,
      "outputs": []
    },
    {
      "cell_type": "code",
      "metadata": {
        "id": "6iz9xXY4S7Wv",
        "colab_type": "code",
        "colab": {}
      },
      "source": [
        "insert_query_1 = \"INSERT INTO m_hashtag (hashtag) VALUES (%s)\"\n",
        "insert_query_2 = \"INSERT INTO hashtag_count (count,id_hashtag) VALUES (%s,%s)\"\n",
        "\n",
        "try:\n",
        "  with conn.cursor() as cursor:\n",
        "    for k,v in hashtag_counts.items():\n",
        "      cursor.execute(insert_query_1,(k))\n",
        "      conn.commit()\n",
        "      \n",
        "      sql =\"SELECT LAST_INSERT_ID()\"\n",
        "      cursor.execute(sql)\n",
        "      last_insert_id = cursor.fetchone()\n",
        "      \n",
        "      cursor.execute(insert_query_2,(v,last_insert_id))\n",
        "      conn.commit()\n",
        "\n",
        "except Exception as e:\n",
        "  print(e)"
      ],
      "execution_count": 0,
      "outputs": []
    },
    {
      "cell_type": "code",
      "metadata": {
        "id": "zAoBPw09S84e",
        "colab_type": "code",
        "colab": {}
      },
      "source": [
        "show_data = \"SELECT h.id_hashtag, h.hashtag, hc.count FROM m_hashtag h JOIN hashtag_count hc ON h.id_hashtag = hc.id_hashtag\"\n",
        "records = {}\n",
        "\n",
        "try:\n",
        "  with conn.cursor() as cursor:\n",
        "    cursor.execute(show_data)\n",
        "    records = cursor.fetchall()\n",
        "    \n",
        "    jumlah_baris = cursor.rowcount\n",
        "    # print jumlah baris \n",
        "\n",
        "except Exception as e:\n",
        "  print(\"Error\")\n",
        "  print(e)\n",
        "  \n",
        "for record in records:\n",
        "  a,b,c = record\n",
        "  print(a)\n",
        "  print(b)\n",
        "  print(c)\n",
        "\n",
        "for a,b,c in records:\n",
        "  print(\"hashtag %s (id=%s) memiliki count sejumlah %s\"%(b,a,c))"
      ],
      "execution_count": 0,
      "outputs": []
    },
    {
      "cell_type": "markdown",
      "metadata": {
        "id": "OnMAe3ITBZhZ",
        "colab_type": "text"
      },
      "source": [
        "Isi cell ini dengan gambar ERD dari database anda dan jelaskan isi dari masing-masing table tersebut. \n",
        "Bisa menggunakan https://www.draw.io/ pilih entity relation.\n",
        "\n",
        "Hasil dapat dilihat melalui link ini\n",
        "[Gambar ER Diagram](https://drive.google.com/uc?id=1bzkiYUoTEZwJLtkcVXHbYj4v1z3aK--C)\n",
        "\n"
      ]
    },
    {
      "cell_type": "code",
      "metadata": {
        "id": "hdPy1xhKxFnz",
        "colab_type": "code",
        "colab": {}
      },
      "source": [
        ""
      ],
      "execution_count": 0,
      "outputs": []
    }
  ]
}